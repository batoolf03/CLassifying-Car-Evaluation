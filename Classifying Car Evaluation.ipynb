{
 "cells": [
  {
   "cell_type": "code",
   "execution_count": 1,
   "metadata": {},
   "outputs": [],
   "source": [
    "## For this multi class problem, I have used Naive Bayes, KNN, Decision Tree, logisitic regression and \n",
    "## SVM after tuning the optimal hyperparameters for every model. Their performance would be compared \n",
    "## based on the f1 score\n",
    "\n",
    "import pandas as pd\n",
    "from pandas import DataFrame\n",
    "import numpy as np\n",
    "\n",
    "path = 'C:/Users/Batool Fatima/Desktop/MSBA Fall 2019/MSBA 6420 - Predictive Analytics/'\n",
    "data = pd.read_csv(path + 'car.data', header = None)\n",
    "\n",
    "\n",
    "data.rename(columns = {0: 'buying', 1: 'maint', 2: 'doors', 3: 'persons',\n",
    "4: 'lug_boot', 5:'safety', 6: 'class'}, inplace = True)"
   ]
  },
  {
   "cell_type": "code",
   "execution_count": 2,
   "metadata": {},
   "outputs": [],
   "source": [
    "# In order to use NB, we need to convert features/categories into numerical data since onehotencoding\n",
    "# will significantly break the independency rule\n",
    "\n",
    "data_naivebayes = data.replace({'buying': {'low' : 1, 'med' : 2, 'high' : 3\n",
    ", 'vhigh' : 4},\n",
    "'maint' : {'low' : 1, 'med' : 2, 'high' : 3, 'vhigh' : 4},\n",
    "'doors' : {'2': 2, '3' : 3, '5more' : 5},\n",
    "'persons':{ '2':2,'4':4,'more':6},\n",
    "'lug_boot' : {'small':1, 'med':2, 'big':3},\n",
    "'safety' : {'low':1, 'med':2, 'high':3}})"
   ]
  },
  {
   "cell_type": "code",
   "execution_count": 3,
   "metadata": {},
   "outputs": [],
   "source": [
    "# Split the data using stratified sampling\n",
    "from sklearn.naive_bayes import GaussianNB\n",
    "\n",
    "from sklearn.model_selection import train_test_split\n",
    "\n",
    "data_y = data_naivebayes.iloc[:,6].values\n",
    "data_x = data_naivebayes.iloc[:,0:6].values\n",
    "\n",
    "x_train, x_test, y_train, y_test = train_test_split(data_x,data_y,test_size\n",
    "= 0.2, random_state = 1, stratify = data_y)"
   ]
  },
  {
   "cell_type": "code",
   "execution_count": 4,
   "metadata": {},
   "outputs": [
    {
     "name": "stdout",
     "output_type": "stream",
     "text": [
      "              precision    recall  f1-score   support\n",
      "\n",
      "         acc       0.63      0.22      0.33        77\n",
      "        good       0.67      0.14      0.24        14\n",
      "       unacc       0.85      0.88      0.87       242\n",
      "       vgood       0.19      1.00      0.32        13\n",
      "\n",
      "    accuracy                           0.71       346\n",
      "   macro avg       0.59      0.56      0.44       346\n",
      "weighted avg       0.77      0.71      0.70       346\n",
      "\n"
     ]
    }
   ],
   "source": [
    "gnb = GaussianNB()\n",
    "\n",
    "from sklearn.metrics import classification_report\n",
    "y_pred_nb = gnb.fit(x_train, y_train).predict(x_test)\n",
    "print(classification_report(y_test, y_pred_nb))"
   ]
  },
  {
   "cell_type": "code",
   "execution_count": 5,
   "metadata": {},
   "outputs": [],
   "source": [
    "# using decision tree\n",
    "# onehotencoding\n",
    "from sklearn.preprocessing import OneHotEncoder\n",
    "\n",
    "onehotencoder = OneHotEncoder()\n",
    "data_y = data.iloc[:,6].values\n",
    "data_x = data.iloc[:,0:6].values\n",
    "data_x = onehotencoder.fit_transform(data_x).toarray()\n",
    "x_train, x_test, y_train, y_test = train_test_split(data_x,data_y,test_size\n",
    "= 0.2, random_state = 1, stratify = data_y)"
   ]
  },
  {
   "cell_type": "code",
   "execution_count": 7,
   "metadata": {},
   "outputs": [
    {
     "data": {
      "text/plain": [
       "{'max_depth': 10, 'min_samples_leaf': 10}"
      ]
     },
     "execution_count": 7,
     "metadata": {},
     "output_type": "execute_result"
    }
   ],
   "source": [
    "# Gridsearch to determine tune the hyperparameters: max_depth and min_samples_leaf\n",
    "from sklearn.metrics import f1_score\n",
    "#import warnings; warnings.simplefilter('ignore')\n",
    "from sklearn.tree import DecisionTreeClassifier\n",
    "from sklearn.model_selection import GridSearchCV\n",
    "\n",
    "depth={\"max_depth\":[1,5,10,15,20,25,30],\n",
    "\"min_samples_leaf\" : [10,20,30]}\n",
    "DTC=DecisionTreeClassifier()\n",
    "grid_dt=GridSearchCV(DTC,param_grid=depth , cv=4, scoring= 'f1_weighted')\n",
    "grid_dt.fit(x_train,y_train)\n",
    "dt_result =pd.DataFrame(grid_dt.cv_results_)\n",
    "grid_dt.best_params_"
   ]
  },
  {
   "cell_type": "code",
   "execution_count": 8,
   "metadata": {},
   "outputs": [
    {
     "name": "stdout",
     "output_type": "stream",
     "text": [
      "              precision    recall  f1-score   support\n",
      "\n",
      "         acc       0.90      0.94      0.92        77\n",
      "        good       0.82      0.64      0.72        14\n",
      "       unacc       1.00      0.98      0.99       242\n",
      "       vgood       0.81      1.00      0.90        13\n",
      "\n",
      "    accuracy                           0.96       346\n",
      "   macro avg       0.88      0.89      0.88       346\n",
      "weighted avg       0.96      0.96      0.96       346\n",
      "\n"
     ]
    }
   ],
   "source": [
    "#Let's apply the model with the best hyperparameters\n",
    "from sklearn.tree import DecisionTreeClassifier\n",
    "final_dt = DecisionTreeClassifier(**grid_dt.best_params_)\n",
    "y_pred_dt = final_dt.fit(x_train, y_train).predict(x_test)\n",
    "print(classification_report(y_test, y_pred_dt))"
   ]
  },
  {
   "cell_type": "code",
   "execution_count": 9,
   "metadata": {},
   "outputs": [],
   "source": [
    "## Using Logistic regression\n",
    "\n",
    "onehotencoder = OneHotEncoder()\n",
    "data_y = data.iloc[:,6].values\n",
    "data_x = data.iloc[:,0:6].values\n",
    "data_x = onehotencoder.fit_transform(data_x).toarray()\n",
    "x_train, x_test, y_train, y_test = train_test_split(data_x,data_y,test_size\n",
    "= 0.2, random_state = 1, stratify = data_y)"
   ]
  },
  {
   "cell_type": "code",
   "execution_count": 10,
   "metadata": {},
   "outputs": [],
   "source": [
    "# Given that the dependent variable is ordered data, it is most suited\n",
    "# for ordered logit.\n",
    "\n",
    "# using multiclass logit instead\n",
    "from sklearn import linear_model\n",
    "clf1 = linear_model.LogisticRegression(solver='lbfgs', multi_class='multinomial')\n",
    "y_pred_reg = clf1.fit(x_train, y_train).predict(x_test)"
   ]
  },
  {
   "cell_type": "code",
   "execution_count": 11,
   "metadata": {
    "scrolled": true
   },
   "outputs": [
    {
     "name": "stdout",
     "output_type": "stream",
     "text": [
      "              precision    recall  f1-score   support\n",
      "\n",
      "         acc       0.75      0.91      0.82        77\n",
      "        good       1.00      0.29      0.44        14\n",
      "       unacc       0.97      0.96      0.97       242\n",
      "       vgood       0.82      0.69      0.75        13\n",
      "\n",
      "    accuracy                           0.91       346\n",
      "   macro avg       0.89      0.71      0.75       346\n",
      "weighted avg       0.92      0.91      0.91       346\n",
      "\n"
     ]
    }
   ],
   "source": [
    "print(classification_report(y_test, y_pred_reg))"
   ]
  },
  {
   "cell_type": "code",
   "execution_count": 12,
   "metadata": {},
   "outputs": [],
   "source": [
    "# using KNN\n",
    "\n",
    "# Again let's use onehotencoding\n",
    "onehotencoder = OneHotEncoder()\n",
    "data_y = data.iloc[:,6].values\n",
    "data_x = data.iloc[:,0:6].values\n",
    "data_x = onehotencoder.fit_transform(data_x).toarray()\n",
    "x_train, x_test, y_train, y_test = train_test_split(data_x,data_y,test_size\n",
    "= 0.2, random_state = 1, stratify = data_y)"
   ]
  },
  {
   "cell_type": "code",
   "execution_count": 13,
   "metadata": {},
   "outputs": [
    {
     "data": {
      "text/plain": [
       "{'n_neighbors': 7, 'weights': 'uniform'}"
      ]
     },
     "execution_count": 13,
     "metadata": {},
     "output_type": "execute_result"
    }
   ],
   "source": [
    "# Using grid search to tune the two hyperparameters: \n",
    "# k and weight options using the weighted average scoring\n",
    "\n",
    "from sklearn.neighbors import KNeighborsClassifier\n",
    "from sklearn.metrics import f1_score\n",
    "#import warnings; warnings.simplefilter('ignore')\n",
    "\n",
    "k_range = list(range(1,31))\n",
    "weight_options = [\"uniform\", \"distance\"]\n",
    "param_grid = dict(n_neighbors = k_range, weights = weight_options)\n",
    "knn = KNeighborsClassifier()\n",
    "grid_knn = GridSearchCV(knn, param_grid, cv = 4, scoring = 'f1_weighted')\n",
    "\n",
    "grid_knn.fit(x_train,y_train)\n",
    "grid_knn.best_params_"
   ]
  },
  {
   "cell_type": "code",
   "execution_count": 15,
   "metadata": {},
   "outputs": [
    {
     "data": {
      "image/png": "[encoded data removed]",
      "text/plain": [
       "<Figure size 432x288 with 1 Axes>"
      ]
     },
     "metadata": {
      "needs_background": "light"
     },
     "output_type": "display_data"
    }
   ],
   "source": [
    "# visualizing the evolution of the weighted average for different combinations of the hyperparameters\n",
    "import matplotlib.pyplot as plt\n",
    "def plot_results( grid ,par_1,par_2, title, y_lab):\n",
    "    \"\"\"Select two hyperparameters from which we plot the fluctuations\"\"\"\n",
    "    index = 'param_' + par_1\n",
    "    columns = 'param_' + par_2\n",
    "\n",
    "# prepare the results into a pandas.DataFrame\n",
    "    data = pd.DataFrame(grid.cv_results_)\n",
    "# Remove the other by selecting their best values (from gscv.best_params_)\n",
    "\n",
    "    other = [c for c in data.columns if c[:6] == 'param_']\n",
    "    other.remove(index)\n",
    "    other.remove(columns)\n",
    "# Create pivot tables for easy plotting\n",
    "    table_mean = data.pivot_table(index=index, columns=columns,\n",
    "    values=['mean_test_score'])\n",
    "    table_std = data.pivot_table(index=index, columns=columns,\n",
    "    values=['std_test_score'])\n",
    "    # plot the pivot tables\n",
    "    plt.figure()\n",
    "    ax = plt.gca()\n",
    "    for col_mean, col_std in zip(table_mean.columns, table_std.columns):\n",
    "        table_mean[col_mean].plot(ax=ax, yerr=table_std[col_std], marker='o',label=col_mean)\n",
    "\n",
    "    plt.title(title)\n",
    "    plt.ylabel(y_lab)\n",
    "    plt.legend(title=table_mean.columns.names)\n",
    "    plt.show()\n",
    "plot_results(grid_knn ,par_1 = \"n_neighbors\",par_2 = \"weights\", title =\"Tuning of Hyperparameters for Knn\", y_lab= \"F1_weighted_score\")\n",
    "plt.show()"
   ]
  },
  {
   "cell_type": "code",
   "execution_count": 16,
   "metadata": {},
   "outputs": [],
   "source": [
    "# Let's apply the model with our tuned hyperparamters\n",
    "from sklearn.neighbors import KNeighborsClassifier\n",
    "neigh = KNeighborsClassifier(n_neighbors=7)\n",
    "y_pred_knn = neigh.fit(x_train, y_train).predict(x_test)"
   ]
  },
  {
   "cell_type": "code",
   "execution_count": 17,
   "metadata": {},
   "outputs": [
    {
     "name": "stdout",
     "output_type": "stream",
     "text": [
      "              precision    recall  f1-score   support\n",
      "\n",
      "         acc       0.88      0.88      0.88        77\n",
      "        good       0.78      0.50      0.61        14\n",
      "       unacc       0.96      0.98      0.97       242\n",
      "       vgood       0.83      0.77      0.80        13\n",
      "\n",
      "    accuracy                           0.93       346\n",
      "   macro avg       0.86      0.78      0.82       346\n",
      "weighted avg       0.93      0.93      0.93       346\n",
      "\n"
     ]
    }
   ],
   "source": [
    "print(classification_report(y_test, y_pred_knn))"
   ]
  },
  {
   "cell_type": "code",
   "execution_count": 18,
   "metadata": {},
   "outputs": [],
   "source": [
    "# finally, moving onto SVM\n",
    "# onehotencoding for the last time\n",
    "onehotencoder = OneHotEncoder()\n",
    "data_y = data.iloc[:,6].values\n",
    "data_x = data.iloc[:,0:6].values\n",
    "data_x = onehotencoder.fit_transform(data_x).toarray()\n",
    "x_train, x_test, y_train, y_test = train_test_split(data_x,data_y,test_size\n",
    "= 0.2, random_state = 1, stratify = data_y)"
   ]
  },
  {
   "cell_type": "code",
   "execution_count": 19,
   "metadata": {},
   "outputs": [
    {
     "data": {
      "text/plain": [
       "{'C': 10, 'tol': 0.01}"
      ]
     },
     "execution_count": 19,
     "metadata": {},
     "output_type": "execute_result"
    }
   ],
   "source": [
    "# grid search to determine the best combination of hyperparameters: C and tol\n",
    "# Use the linear kernel, since the data is linearly separable and logistic regression seems to be performing well\n",
    "\n",
    "from sklearn import svm\n",
    "#import warnings; warnings.simplefilter('ignore')\n",
    "\n",
    "c_values = [0.01,0.1,1,10,100,1000]\n",
    "tol_values = [0.0001,0.001,0.01,0.1]\n",
    "param_grid = dict(C = c_values, tol = tol_values)\n",
    "SVC_model = svm.SVC(kernel = 'linear')\n",
    "grid_svc = GridSearchCV(SVC_model, param_grid, cv = 4, scoring = 'f1_weighted')\n",
    "\n",
    "grid_svc.fit(x_train,y_train)\n",
    "grid_svc.best_params_"
   ]
  },
  {
   "cell_type": "code",
   "execution_count": 20,
   "metadata": {},
   "outputs": [],
   "source": [
    "# Finally, let's apply svm with these hyperparameters\n",
    "#import warnings; warnings.simplefilter('ignore')\n",
    "\n",
    "final_svc = svm.SVC(**grid_svc.best_params_)\n",
    "y_pred_svc = final_svc.fit(x_train, y_train).predict(x_test)"
   ]
  },
  {
   "cell_type": "code",
   "execution_count": 21,
   "metadata": {},
   "outputs": [
    {
     "name": "stdout",
     "output_type": "stream",
     "text": [
      "              precision    recall  f1-score   support\n",
      "\n",
      "         acc       0.97      0.97      0.97        77\n",
      "        good       1.00      0.93      0.96        14\n",
      "       unacc       1.00      0.99      0.99       242\n",
      "       vgood       0.87      1.00      0.93        13\n",
      "\n",
      "    accuracy                           0.99       346\n",
      "   macro avg       0.96      0.97      0.96       346\n",
      "weighted avg       0.99      0.99      0.99       346\n",
      "\n"
     ]
    }
   ],
   "source": [
    "print(classification_report(y_test, y_pred_svc))"
   ]
  },
  {
   "cell_type": "code",
   "execution_count": 22,
   "metadata": {},
   "outputs": [
    {
     "data": {
      "text/plain": [
       "unacc    1210\n",
       "acc       384\n",
       "good       69\n",
       "vgood      65\n",
       "Name: class, dtype: int64"
      ]
     },
     "execution_count": 22,
     "metadata": {},
     "output_type": "execute_result"
    }
   ],
   "source": [
    "## Based on the weighted average f1 score, SVM is the best model. All models perform better for the class 'unacc',\n",
    "## which was expected as 'unacc' represents about 70% of the dataset.\n",
    "\n",
    "data['class'].value_counts()"
   ]
  }
 ],
 "metadata": {
  "kernelspec": {
   "display_name": "Python 3",
   "language": "python",
   "name": "python3"
  },
  "language_info": {
   "codemirror_mode": {
    "name": "ipython",
    "version": 3
   },
   "file_extension": ".py",
   "mimetype": "text/x-python",
   "name": "python",
   "nbconvert_exporter": "python",
   "pygments_lexer": "ipython3",
   "version": "3.7.3"
  }
 },
 "nbformat": 4,
 "nbformat_minor": 4
}
